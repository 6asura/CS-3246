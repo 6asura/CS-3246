{
  "cells": [
    {
      "cell_type": "markdown",
      "metadata": {
        "id": "A4GF3lV6jm5x"
      },
      "source": [
        "# **Activity 1: NumPy Exercise**\n",
        "\n",
        "**Objective:**\n",
        "\n",
        "Practice NumPy's array manipulation, indexing, and mathematical functions by solving problems related to basic data analysis and matrix operations."
      ]
    },
    {
      "cell_type": "markdown",
      "metadata": {
        "id": "Pq3P9XLbjVU4"
      },
      "source": [
        "## **Part 1**"
      ]
    },
    {
      "cell_type": "markdown",
      "metadata": {},
      "source": [
        "#Advincula\n",
        "#Tranquilan"
      ]
    },
    {
      "cell_type": "markdown",
      "metadata": {
        "id": "VkOXGCuiLGR9"
      },
      "source": [
        "#### 1. Import the numpy package under the name `np`\n"
      ]
    },
    {
      "cell_type": "code",
      "execution_count": 4,
      "metadata": {
        "id": "DhbEnfx8O314"
      },
      "outputs": [],
      "source": [
        "import numpy as np"
      ]
    },
    {
      "cell_type": "markdown",
      "metadata": {
        "id": "ktNjFh4pO-5C"
      },
      "source": [
        "#### 2. Print the numpy version"
      ]
    },
    {
      "cell_type": "code",
      "execution_count": 2,
      "metadata": {
        "id": "7tZfwQhhPQoI"
      },
      "outputs": [
        {
          "name": "stdout",
          "output_type": "stream",
          "text": [
            "2.2.2\n"
          ]
        }
      ],
      "source": [
        "print (np.__version__)"
      ]
    },
    {
      "cell_type": "markdown",
      "metadata": {
        "id": "D4V99t3oQRAB"
      },
      "source": [
        "#### 3. Create a null array of size 5"
      ]
    },
    {
      "cell_type": "code",
      "execution_count": 11,
      "metadata": {
        "id": "XnL-QmA_QYa2"
      },
      "outputs": [
        {
          "name": "stdout",
          "output_type": "stream",
          "text": [
            "[0. 0. 0. 0. 0.]\n"
          ]
        }
      ],
      "source": [
        "null_array = np.zeros(5)\n",
        "\n",
        "print(null_array)"
      ]
    },
    {
      "cell_type": "markdown",
      "metadata": {
        "id": "x9tAEjPlQcnh"
      },
      "source": [
        "#### 4. Create a null array of size 15 but the seventh value which is 1"
      ]
    },
    {
      "cell_type": "code",
      "execution_count": 12,
      "metadata": {
        "id": "VgwfRV6OQlGk"
      },
      "outputs": [
        {
          "name": "stdout",
          "output_type": "stream",
          "text": [
            "[0. 0. 0. 0. 0. 0. 1. 0. 0. 0. 0. 0. 0. 0. 0.]\n"
          ]
        }
      ],
      "source": [
        "null_arr = np.zeros(15)\n",
        "\n",
        "null_arr[6] = 1\n",
        "\n",
        "print(null_arr)"
      ]
    },
    {
      "cell_type": "markdown",
      "metadata": {
        "id": "a5_Af-hYTi-X"
      },
      "source": [
        "#### 5. Create a 4x4 matrix with values ranging from 0 to 11"
      ]
    },
    {
      "cell_type": "code",
      "execution_count": 42,
      "metadata": {
        "id": "HSlLeK5YQ5Lo"
      },
      "outputs": [
        {
          "name": "stdout",
          "output_type": "stream",
          "text": [
            "[[ 0  1  2  3]\n",
            " [ 4  5  6  7]\n",
            " [ 8  9 10 11]\n",
            " [12 13 14 15]]\n"
          ]
        }
      ],
      "source": [
        "matrix = np.arange(16).reshape(4, 4)\n",
        "\n",
        "print(matrix)"
      ]
    },
    {
      "cell_type": "markdown",
      "metadata": {
        "id": "nLJvzwjfVXOL"
      },
      "source": [
        "#### 6. Find indices of non-zero elements from [1,2,4,0,4,0]"
      ]
    },
    {
      "cell_type": "code",
      "execution_count": 15,
      "metadata": {
        "id": "o8vyHuWfVbXu"
      },
      "outputs": [
        {
          "name": "stdout",
          "output_type": "stream",
          "text": [
            "(array([0, 1, 2, 4]),)\n"
          ]
        }
      ],
      "source": [
        "arr = np.array([1, 2, 4, 0, 4, 0])\n",
        "\n",
        "non_zero_indices = np.nonzero(arr)\n",
        "\n",
        "print(non_zero_indices)"
      ]
    },
    {
      "cell_type": "markdown",
      "metadata": {
        "id": "z6OrgicLV6C-"
      },
      "source": [
        "#### 7. Create a 4x4x4 array with random values"
      ]
    },
    {
      "cell_type": "code",
      "execution_count": 16,
      "metadata": {
        "collapsed": true,
        "id": "MhcNEK55V1UF"
      },
      "outputs": [
        {
          "name": "stdout",
          "output_type": "stream",
          "text": [
            "[[[0.5238645  0.07635711 0.51694949 0.17844939]\n",
            "  [0.85454353 0.04327767 0.02672859 0.02319169]\n",
            "  [0.73076896 0.55542236 0.84378951 0.72725103]\n",
            "  [0.64942179 0.62746913 0.04702639 0.58411909]]\n",
            "\n",
            " [[0.35232054 0.6007553  0.79540518 0.79546696]\n",
            "  [0.31925477 0.95961904 0.32132138 0.92744223]\n",
            "  [0.12970329 0.45303468 0.02790034 0.41150545]\n",
            "  [0.5755919  0.97467797 0.93909372 0.0886676 ]]\n",
            "\n",
            " [[0.37088088 0.88094673 0.4613637  0.1356902 ]\n",
            "  [0.55788573 0.68301562 0.51738605 0.36029873]\n",
            "  [0.74180034 0.60077427 0.06685025 0.63188353]\n",
            "  [0.32878808 0.89797499 0.08520687 0.9833103 ]]\n",
            "\n",
            " [[0.6750417  0.70629122 0.06781166 0.70304197]\n",
            "  [0.51436791 0.63483189 0.30656948 0.07186257]\n",
            "  [0.55050929 0.93836257 0.45184343 0.94587489]\n",
            "  [0.49374647 0.4346507  0.36218054 0.59111934]]]\n"
          ]
        }
      ],
      "source": [
        "random_array2 = np.random.rand(4, 4, 4)\n",
        "\n",
        "print(random_array2)"
      ]
    },
    {
      "cell_type": "markdown",
      "metadata": {
        "id": "aLqeru_NWso3"
      },
      "source": [
        "#### 8. Create a 15x15 array with random assigned values and find the min and max values"
      ]
    },
    {
      "cell_type": "code",
      "execution_count": 17,
      "metadata": {
        "collapsed": true,
        "id": "eSpxGZ2GWqDo"
      },
      "outputs": [
        {
          "name": "stdout",
          "output_type": "stream",
          "text": [
            "Random 15x15 array:\n",
            "[[0.62008999 0.3446856  0.8135564  0.35126078 0.35159943 0.0206349\n",
            "  0.26548941 0.16350067 0.88868337 0.983421   0.03357532 0.29135004\n",
            "  0.68409442 0.85441591 0.50223184]\n",
            " [0.54322117 0.07189341 0.7438927  0.44442036 0.19485533 0.68161707\n",
            "  0.24943035 0.74741544 0.09776737 0.77050409 0.60947111 0.29880828\n",
            "  0.83612821 0.86169268 0.27741398]\n",
            " [0.46710345 0.97863461 0.69137725 0.40879126 0.65608921 0.10906239\n",
            "  0.58083284 0.32470352 0.91698753 0.32324568 0.7149701  0.61869775\n",
            "  0.05778826 0.96032698 0.49294948]\n",
            " [0.07446763 0.69952348 0.88387105 0.49184405 0.35639785 0.46601138\n",
            "  0.79647    0.11169675 0.51411474 0.60954692 0.06689136 0.98001806\n",
            "  0.43962868 0.10525325 0.10061425]\n",
            " [0.70180188 0.15981575 0.64675679 0.09452468 0.30333932 0.93052641\n",
            "  0.2359426  0.777513   0.00424512 0.39115744 0.79225553 0.71628807\n",
            "  0.81541384 0.886357   0.56043194]\n",
            " [0.55737479 0.86205532 0.19192188 0.41718278 0.08444112 0.40876095\n",
            "  0.29340591 0.47065528 0.44950486 0.53868656 0.68743938 0.6907907\n",
            "  0.8128392  0.80612385 0.75427593]\n",
            " [0.01967328 0.59996639 0.37504358 0.89162126 0.47412922 0.2896249\n",
            "  0.90160192 0.89634812 0.02494317 0.50307052 0.38744634 0.94035884\n",
            "  0.56519653 0.38586794 0.52593064]\n",
            " [0.7781594  0.39957288 0.26553655 0.77231343 0.77430923 0.32548176\n",
            "  0.06149079 0.22714546 0.25121986 0.59377634 0.61184397 0.10733039\n",
            "  0.01884941 0.80855517 0.45117465]\n",
            " [0.5997271  0.25868092 0.95663944 0.75803984 0.3277018  0.53285171\n",
            "  0.46417216 0.43134022 0.50303655 0.07884895 0.03549766 0.74440014\n",
            "  0.86073283 0.24019846 0.92375171]\n",
            " [0.57716283 0.4578295  0.56985946 0.0670888  0.83175294 0.3654178\n",
            "  0.32944478 0.17496471 0.55138992 0.87970547 0.78597819 0.12197541\n",
            "  0.06514707 0.05237092 0.54973704]\n",
            " [0.17913522 0.94919588 0.38722227 0.68200821 0.00134412 0.72300328\n",
            "  0.62753991 0.82529076 0.22596857 0.84718839 0.27378943 0.32094841\n",
            "  0.61762018 0.31988516 0.32560642]\n",
            " [0.85436975 0.21284865 0.72119402 0.22432227 0.09070879 0.32865585\n",
            "  0.62092974 0.91991993 0.63892308 0.16748536 0.19789317 0.5593563\n",
            "  0.57642518 0.06480192 0.10711103]\n",
            " [0.65640626 0.20735874 0.39685345 0.46241732 0.97885964 0.0443727\n",
            "  0.37753835 0.41863932 0.88847409 0.27303713 0.13705812 0.76562387\n",
            "  0.3846642  0.66474636 0.22797781]\n",
            " [0.47861084 0.0811624  0.40374981 0.11213972 0.57303708 0.50941939\n",
            "  0.64689452 0.98762282 0.32855592 0.72915074 0.08500062 0.81169999\n",
            "  0.31719807 0.03447502 0.29980291]\n",
            " [0.36372187 0.82695358 0.45747536 0.3914958  0.02165318 0.03630355\n",
            "  0.12048536 0.46914275 0.07426286 0.40859716 0.92620623 0.5209975\n",
            "  0.63975093 0.0593512  0.26938781]]\n",
            "\n",
            "Minimum value: 0.0013441203180047934\n",
            "Maximum value: 0.9876228172502828\n"
          ]
        }
      ],
      "source": [
        "random_array1 = np.random.rand(15, 15)\n",
        "\n",
        "min_value = np.min(random_array1)\n",
        "max_value = np.max(random_array1)\n",
        "\n",
        "print(\"Random 15x15 array:\")\n",
        "print(random_array1)\n",
        "print(\"\\nMinimum value:\", min_value)\n",
        "print(\"Maximum value:\", max_value)"
      ]
    },
    {
      "cell_type": "code",
      "execution_count": null,
      "metadata": {
        "id": "cUFXQqkHW6qB"
      },
      "outputs": [],
      "source": []
    },
    {
      "cell_type": "markdown",
      "metadata": {
        "id": "jIAQPvclbEVr"
      },
      "source": [
        "#### 9. Create a random array of size 25 and find the mean value"
      ]
    },
    {
      "cell_type": "code",
      "execution_count": 18,
      "metadata": {
        "id": "q91Y8GMebPeY"
      },
      "outputs": [
        {
          "name": "stdout",
          "output_type": "stream",
          "text": [
            "Random array of size 25:\n",
            "[0.37807841 0.89703047 0.02555269 0.97627985 0.11281683 0.27140803\n",
            " 0.38213504 0.23100952 0.07617664 0.10539578 0.5612873  0.81938628\n",
            " 0.12297311 0.19804693 0.20609765 0.92740518 0.26386733 0.39632734\n",
            " 0.58271092 0.41948094 0.13122521 0.78253983 0.15088719 0.13896872\n",
            " 0.45758205]\n",
            "\n",
            "Mean value: 0.3845867691223171\n"
          ]
        }
      ],
      "source": [
        "random_array = np.random.rand(25)\n",
        "\n",
        "mean_value = np.mean(random_array)\n",
        "\n",
        "print(\"Random array of size 25:\")\n",
        "print(random_array)\n",
        "print(\"\\nMean value:\", mean_value)"
      ]
    },
    {
      "cell_type": "markdown",
      "metadata": {
        "id": "1z3JFRgAkmNP"
      },
      "source": [
        "#### 10.  Show your codes\n",
        "\n",
        "Given:\n",
        "\n",
        "array 1 = ([2, 4, 9])\\\n",
        "array 2 = ([1, 14, 6])\n",
        "\n",
        "  *Note: Recreate the arrays*"
      ]
    },
    {
      "cell_type": "code",
      "execution_count": 21,
      "metadata": {
        "id": "jiC8LUdknLPN"
      },
      "outputs": [
        {
          "name": "stdout",
          "output_type": "stream",
          "text": [
            "Array1: [12  4  9]\n",
            "Array2: [11 14  6]\n"
          ]
        }
      ],
      "source": [
        "array1 = np.array([12, 4, 9])\n",
        "array2 = np.array([11, 14, 6])\n",
        "\n",
        "print(\"Array1:\", array1)\n",
        "print(\"Array2:\", array2)"
      ]
    },
    {
      "cell_type": "markdown",
      "metadata": {
        "id": "QFPFjpSSmecQ"
      },
      "source": [
        "10.1 What is the result of *a + b*?"
      ]
    },
    {
      "cell_type": "code",
      "execution_count": 22,
      "metadata": {
        "id": "Yqcpj3ccm5La"
      },
      "outputs": [
        {
          "name": "stdout",
          "output_type": "stream",
          "text": [
            "a + b: [23 18 15]\n"
          ]
        }
      ],
      "source": [
        "result_add = array1 + array2\n",
        "print(\"a + b:\", result_add)"
      ]
    },
    {
      "cell_type": "markdown",
      "metadata": {
        "id": "t0__U1Bum7k6"
      },
      "source": [
        "10.2 What is the result of *a - b*?"
      ]
    },
    {
      "cell_type": "code",
      "execution_count": 23,
      "metadata": {
        "id": "SmuAcAubnCNO"
      },
      "outputs": [
        {
          "name": "stdout",
          "output_type": "stream",
          "text": [
            "a - b: [  1 -10   3]\n"
          ]
        }
      ],
      "source": [
        "result_subtract = array1 - array2\n",
        "print(\"a - b:\", result_subtract)"
      ]
    },
    {
      "cell_type": "markdown",
      "metadata": {
        "id": "5dbiR_Urm5fJ"
      },
      "source": [
        "10.3 What is the result of *a × b*?"
      ]
    },
    {
      "cell_type": "code",
      "execution_count": 24,
      "metadata": {
        "id": "Zpnb_vGqksSF"
      },
      "outputs": [
        {
          "name": "stdout",
          "output_type": "stream",
          "text": [
            "a * b: [132  56  54]\n"
          ]
        }
      ],
      "source": [
        "result_multiply = array1 * array2\n",
        "print(\"a * b:\", result_multiply)"
      ]
    },
    {
      "cell_type": "markdown",
      "metadata": {
        "id": "jHTozQuZp2WM"
      },
      "source": [
        "10.4 What is the result of *a ÷ b*?"
      ]
    },
    {
      "cell_type": "code",
      "execution_count": 25,
      "metadata": {
        "id": "9Jx0GzTIqArP"
      },
      "outputs": [
        {
          "name": "stdout",
          "output_type": "stream",
          "text": [
            "a / b: [1.09090909 0.28571429 1.5       ]\n"
          ]
        }
      ],
      "source": [
        "result_divide = array1 / array2\n",
        "print(\"a / b:\", result_divide)"
      ]
    },
    {
      "cell_type": "markdown",
      "metadata": {
        "id": "I3FhrIORjZsA"
      },
      "source": [
        "## **Part 2**"
      ]
    },
    {
      "cell_type": "markdown",
      "metadata": {
        "id": "JDa9MTb2wXPi"
      },
      "source": [
        "##### NumPy Array Indexing"
      ]
    },
    {
      "cell_type": "markdown",
      "metadata": {
        "id": "M4rwQgDqrLoo"
      },
      "source": [
        "\n",
        "Given the following matrix:\n",
        "\n",
        "        [[10, 20, 30],\n",
        "        [40, 50, 60],\n",
        "        [70, 80, 90]]\n",
        "\n",
        " 1. Recreate the matrix"
      ]
    },
    {
      "cell_type": "code",
      "execution_count": 11,
      "metadata": {
        "id": "Ra4n8YBQr2RZ"
      },
      "outputs": [
        {
          "name": "stdout",
          "output_type": "stream",
          "text": [
            "[[10 20 30]\n",
            " [40 50 60]\n",
            " [70 80 90]]\n"
          ]
        }
      ],
      "source": [
        "matrix1 = np.array([[1, 2, 3], [4, 5, 6], [7, 8, 9]]) * 10\n",
        "\n",
        "print(matrix1)   "
      ]
    },
    {
      "cell_type": "markdown",
      "metadata": {
        "id": "br-ZYkK3uo24"
      },
      "source": [
        "1. Write code to extract the element 50."
      ]
    },
    {
      "cell_type": "code",
      "execution_count": 12,
      "metadata": {
        "id": "kI7jzTiYrTep"
      },
      "outputs": [
        {
          "name": "stdout",
          "output_type": "stream",
          "text": [
            "50\n"
          ]
        }
      ],
      "source": [
        "print(matrix1[1,1])"
      ]
    },
    {
      "cell_type": "markdown",
      "metadata": {
        "id": "H1OsD655sEX6"
      },
      "source": [
        "2. **Extract a Row**\\\n",
        "\\\n",
        "Using the same array arr, extract the second row as a separate NumPy array."
      ]
    },
    {
      "cell_type": "code",
      "execution_count": 13,
      "metadata": {
        "id": "jf-K5No5sRob"
      },
      "outputs": [
        {
          "name": "stdout",
          "output_type": "stream",
          "text": [
            "[40 50 60]\n"
          ]
        }
      ],
      "source": [
        "second_row = matrix1[1, :]\n",
        "\n",
        "print(second_row)"
      ]
    },
    {
      "cell_type": "markdown",
      "metadata": {
        "id": "qk1-NvWjsVC3"
      },
      "source": [
        "3.  **Extract a Column**\\\n",
        "\\\n",
        "Using arr, extract the third column as a separate NumPy array."
      ]
    },
    {
      "cell_type": "code",
      "execution_count": 15,
      "metadata": {
        "id": "d1s1c5q9sgID"
      },
      "outputs": [
        {
          "name": "stdout",
          "output_type": "stream",
          "text": [
            "[30 60 90]\n"
          ]
        }
      ],
      "source": [
        "third_column = matrix1[:, 2]\n",
        "\n",
        "print(third_column)"
      ]
    },
    {
      "cell_type": "markdown",
      "metadata": {
        "id": "DIe9pf8nskUZ"
      },
      "source": [
        "4. **Extract a Submatrix**\\\n",
        "\\\n",
        "Extract the following 2×2 submatrix from arr:\\\n",
        "\n",
        "  [[50 60]\\\n",
        " [80 90]]"
      ]
    },
    {
      "cell_type": "code",
      "execution_count": 17,
      "metadata": {
        "id": "37dC5sA3ssZV"
      },
      "outputs": [
        {
          "name": "stdout",
          "output_type": "stream",
          "text": [
            "[[50 60]\n",
            " [80 90]]\n"
          ]
        }
      ],
      "source": [
        "submatrix = matrix1[1:3, 1:3]\n",
        "\n",
        "print(submatrix)"
      ]
    },
    {
      "cell_type": "markdown",
      "metadata": {
        "id": "ABs-32sKwOcg"
      },
      "source": [
        "##### NumPy Array Slicing"
      ]
    },
    {
      "cell_type": "markdown",
      "metadata": {
        "id": "T7kcCxr9uGAO"
      },
      "source": [
        "Given the following matrix:\n",
        "\n",
        "                [ 1,  2,  3,  4],\n",
        "                [ 5,  6,  7,  8],\n",
        "                [ 9, 10, 11, 12]]\n",
        "\n",
        "1. Recreate the matrix"
      ]
    },
    {
      "cell_type": "code",
      "execution_count": 18,
      "metadata": {
        "id": "CvzBw2FpwasA"
      },
      "outputs": [
        {
          "name": "stdout",
          "output_type": "stream",
          "text": [
            "[[ 1  2  3  4]\n",
            " [ 5  6  7  8]\n",
            " [ 9 10 11 12]]\n"
          ]
        }
      ],
      "source": [
        "matrix2 = np.arange(1, 13).reshape(3, 4)\n",
        "\n",
        "print(matrix2)"
      ]
    },
    {
      "cell_type": "markdown",
      "metadata": {
        "id": "YaaIsRTVwlof"
      },
      "source": [
        "2. Write code to extract the following 2×2 subarray:\n",
        "\n",
        "        [[ 6  7]\n",
        "        [10 11]]"
      ]
    },
    {
      "cell_type": "code",
      "execution_count": 20,
      "metadata": {
        "id": "PpyFr5wYwuLN"
      },
      "outputs": [
        {
          "name": "stdout",
          "output_type": "stream",
          "text": [
            "[[ 6  7]\n",
            " [10 11]]\n"
          ]
        }
      ],
      "source": [
        "subarray = matrix2[1:3, 1:3]\n",
        "\n",
        "print(subarray)"
      ]
    },
    {
      "cell_type": "markdown",
      "metadata": {
        "id": "poinisgbw02m"
      },
      "source": [
        "3. Using the same matrix, write code to extract every other element from the first row (expected output: [1, 3])."
      ]
    },
    {
      "cell_type": "code",
      "execution_count": 21,
      "metadata": {
        "id": "9UyP9S3Ww-wf"
      },
      "outputs": [
        {
          "name": "stdout",
          "output_type": "stream",
          "text": [
            "[1 3]\n"
          ]
        }
      ],
      "source": [
        "first_row_elements = matrix2[0, ::2]\n",
        "\n",
        "print(first_row_elements)"
      ]
    },
    {
      "cell_type": "markdown",
      "metadata": {
        "id": "0it7IxPqxTq3"
      },
      "source": [
        "4. Write code to reverse the order of rows in the matrix"
      ]
    },
    {
      "cell_type": "code",
      "execution_count": 22,
      "metadata": {
        "id": "-tqPKhrmxWP7"
      },
      "outputs": [
        {
          "name": "stdout",
          "output_type": "stream",
          "text": [
            "[[ 9 10 11 12]\n",
            " [ 5  6  7  8]\n",
            " [ 1  2  3  4]]\n"
          ]
        }
      ],
      "source": [
        "reversed_matrix = matrix2[::-1]\n",
        "\n",
        "print(reversed_matrix)"
      ]
    },
    {
      "cell_type": "markdown",
      "metadata": {
        "id": "C8EWGps7xfYl"
      },
      "source": [
        "5. Write code to extract the last two columns of the matrix."
      ]
    },
    {
      "cell_type": "code",
      "execution_count": 24,
      "metadata": {
        "id": "F7sJw1N1xiKC"
      },
      "outputs": [
        {
          "name": "stdout",
          "output_type": "stream",
          "text": [
            "[[ 3  4]\n",
            " [ 7  8]\n",
            " [11 12]]\n"
          ]
        }
      ],
      "source": [
        "last_two_columns = matrix2[:, -2:]\n",
        "\n",
        "print(last_two_columns)"
      ]
    },
    {
      "cell_type": "markdown",
      "metadata": {
        "id": "_8sVIp1q2MYw"
      },
      "source": [
        "##### NumPy Array Joins\n",
        "\n",
        "1. Given the following arrays:\n",
        "\n",
        "        arr1 = ([11, 7, 33])\\\n",
        "        arr2 = ([44, 5, 18])\n",
        "\n",
        "1.1 Recreate the arrays"
      ]
    },
    {
      "cell_type": "code",
      "execution_count": 25,
      "metadata": {
        "id": "-1H2IYDs2hMx"
      },
      "outputs": [
        {
          "name": "stdout",
          "output_type": "stream",
          "text": [
            "Array1: [11  7 33]\n",
            "Array2: [44  5 18]\n"
          ]
        }
      ],
      "source": [
        "arr1, arr2 = np.array([11, 7, 33]), np.array([44, 5, 18])\n",
        "\n",
        "print(\"Array1:\", arr1)\n",
        "print(\"Array2:\", arr2)  "
      ]
    },
    {
      "cell_type": "markdown",
      "metadata": {
        "id": "jJ-OxwEZ2ysr"
      },
      "source": [
        "2. Write code to join arr1 and arr2 into a single 1D array."
      ]
    },
    {
      "cell_type": "code",
      "execution_count": 27,
      "metadata": {
        "id": "fyKL42Yv2ewQ"
      },
      "outputs": [
        {
          "name": "stdout",
          "output_type": "stream",
          "text": [
            "Joined array: [11  7 33 44  5 18]\n"
          ]
        }
      ],
      "source": [
        "joined_array = np.concatenate((arr1, arr2))\n",
        "\n",
        "print(\"Joined array:\", joined_array)"
      ]
    },
    {
      "cell_type": "markdown",
      "metadata": {
        "id": "1qiYH-0v25Z2"
      },
      "source": [
        "3. Using arr1 and arr2 from question 1, write code to stack them vertically into a 2D array."
      ]
    },
    {
      "cell_type": "code",
      "execution_count": 32,
      "metadata": {
        "id": "MgR89wkS2_Nw"
      },
      "outputs": [
        {
          "name": "stdout",
          "output_type": "stream",
          "text": [
            "Stacked array:\n",
            "[[11  7 33]\n",
            " [44  5 18]]\n"
          ]
        }
      ],
      "source": [
        "stacked_array = np.stack((arr1, arr2), axis=0)\n",
        "\n",
        "print(\"Stacked array:\")\n",
        "print(stacked_array)"
      ]
    },
    {
      "cell_type": "markdown",
      "metadata": {
        "id": "mLanHC623JpJ"
      },
      "source": [
        "4. Given the 2D arrays:\n",
        "\n",
        "        arr1 = ([[1, 2],\n",
        "               [3, 4]])\n",
        "\n",
        "        arr2 = ([[5, 6],\n",
        "               [7, 8]])\n",
        "\n",
        "4.1 Recreate the arrays"
      ]
    },
    {
      "cell_type": "code",
      "execution_count": 35,
      "metadata": {
        "id": "FDGnOATJ3JE4"
      },
      "outputs": [
        {
          "name": "stdout",
          "output_type": "stream",
          "text": [
            "Array1:\n",
            " [[1 2]\n",
            " [3 4]]\n",
            "Array2:\n",
            " [[5 6]\n",
            " [7 8]]\n"
          ]
        }
      ],
      "source": [
        "arr3, arr4 = np.array([[1, 2], [3, 4]]), np.array([[5, 6], [7, 8]])\n",
        "\n",
        "print(\"Array1:\\n\", arr3)\n",
        "print(\"Array2:\\n\", arr4)"
      ]
    },
    {
      "cell_type": "markdown",
      "metadata": {
        "id": "RyJFIfpo3wiA"
      },
      "source": [
        "5. Write code to join them horizontally (column-wise)."
      ]
    },
    {
      "cell_type": "code",
      "execution_count": 36,
      "metadata": {
        "id": "0eHEY4N63zgT"
      },
      "outputs": [
        {
          "name": "stdout",
          "output_type": "stream",
          "text": [
            "Horizontally stacked array\n",
            ": [[1 2 5 6]\n",
            " [3 4 7 8]]\n"
          ]
        }
      ],
      "source": [
        "horizontal_stack = np.hstack((arr3, arr4))\n",
        "\n",
        "print(\"Horizontally stacked array\\n:\" , horizontal_stack)"
      ]
    },
    {
      "cell_type": "markdown",
      "metadata": {
        "id": "encqt9P74ZSv"
      },
      "source": [
        "6. Using arr1 and arr2 from question 4, write code to join them vertically (row-wise).\n"
      ]
    },
    {
      "cell_type": "code",
      "execution_count": 37,
      "metadata": {
        "id": "o-UjS1Kn4rS7"
      },
      "outputs": [
        {
          "name": "stdout",
          "output_type": "stream",
          "text": [
            "Vertically stacked array:\n",
            " [[1 2]\n",
            " [3 4]\n",
            " [5 6]\n",
            " [7 8]]\n"
          ]
        }
      ],
      "source": [
        "vertical_stack = np.vstack((arr3, arr4))\n",
        "\n",
        "print(\"Vertically stacked array:\\n\", vertical_stack)"
      ]
    },
    {
      "cell_type": "markdown",
      "metadata": {
        "id": "2l2umcfvjlXq"
      },
      "source": [
        "## **Part 3**"
      ]
    },
    {
      "cell_type": "markdown",
      "metadata": {
        "id": "-rs5StZQlvYg"
      },
      "source": [
        "### Task 1: Array Creation"
      ]
    },
    {
      "cell_type": "markdown",
      "metadata": {
        "id": "PKyTiCLulztg"
      },
      "source": [
        "Create the following arrays:\n",
        "\n",
        "- A 1D array of integers from 10 to 28, with a step of 2.\n",
        "- A 2D array with shape (4, 4) containing random integers between 1 and 50.\n",
        "- A 3D array of shape (2, 3, 4) filled with ones.\n",
        "\n"
      ]
    },
    {
      "cell_type": "code",
      "execution_count": 40,
      "metadata": {
        "collapsed": true,
        "id": "GRWUhpV46cR4"
      },
      "outputs": [
        {
          "name": "stdout",
          "output_type": "stream",
          "text": [
            "1D Array:\n",
            " [10 12 14 16 18 20 22 24 26 28]\n",
            "\n",
            "2D Array:\n",
            " [[ 7  1 38 18]\n",
            " [25 36 43 33]\n",
            " [16  3  6 39]\n",
            " [ 1 39 39 22]]\n",
            "\n",
            "3D Array:\n",
            " [[[1. 1. 1. 1.]\n",
            "  [1. 1. 1. 1.]\n",
            "  [1. 1. 1. 1.]]\n",
            "\n",
            " [[1. 1. 1. 1.]\n",
            "  [1. 1. 1. 1.]\n",
            "  [1. 1. 1. 1.]]]\n"
          ]
        }
      ],
      "source": [
        "arr5, arr6, arr7 = np.arange(10, 29, 2), np.random.randint(1, 51, (4, 4)), np.ones((2, 3, 4))\n",
        "\n",
        "print(\"1D Array:\\n\", arr5)\n",
        "print(\"\\n2D Array:\\n\", arr6)\n",
        "print(\"\\n3D Array:\\n\", arr7)"
      ]
    },
    {
      "cell_type": "markdown",
      "metadata": {
        "id": "yZPELZSx7ggA"
      },
      "source": [
        "### Task 2: Array Transformations\n",
        "Perform the following operations:\n",
        "- Reshape the 1D array to a 2D array with 2 rows.\n",
        "- Extract the last two rows of the 2D array (From Task 1)\n",
        "- Replace all even numbers in the 2D array with -1. (From Task 1)"
      ]
    },
    {
      "cell_type": "code",
      "execution_count": 46,
      "metadata": {
        "id": "5EJrW4nw7sIE"
      },
      "outputs": [
        {
          "name": "stdout",
          "output_type": "stream",
          "text": [
            "Reshaped 1D array to 2D (2 rows):\n",
            "[[10 12 14 16 18]\n",
            " [20 22 24 26 28]]\n",
            "\n",
            "Last two rows of the 2D array:\n",
            "[[16  3  6 39]\n",
            " [ 1 39 39 22]]\n",
            "\n",
            "2D array with even numbers replaced by -1:\n",
            "[[ 7  1 -1 -1]\n",
            " [25 -1 43 33]\n",
            " [-1  3 -1 39]\n",
            " [ 1 39 39 -1]]\n"
          ]
        }
      ],
      "source": [
        "print(\"Reshaped 1D array to 2D (2 rows):\")\n",
        "print(arr5.reshape(2, -1))\n",
        "\n",
        "print(\"\\nLast two rows of the 2D array:\")\n",
        "print(arr6[-2:])\n",
        "\n",
        "print(\"\\n2D array with even numbers replaced by -1:\")\n",
        "print(np.where(arr6 % 2 == 0, -1, arr6))"
      ]
    },
    {
      "cell_type": "markdown",
      "metadata": {
        "id": "ZkDoNNBjn7nP"
      },
      "source": [
        "### Task 3: Statistical Operations"
      ]
    },
    {
      "cell_type": "markdown",
      "metadata": {
        "id": "87sRNKp0n7nP"
      },
      "source": [
        "Using the 2D array from **Task 1**, compute the following:\n",
        "\n",
        "- The mean, median, and standard deviation of the array. (From Task 1)\n",
        "- The sum of all elements along each row. (From Task 1)\n",
        "- The maximum value and its index in the entire array. (From Task 1)\n"
      ]
    },
    {
      "cell_type": "code",
      "execution_count": 48,
      "metadata": {
        "id": "TEoMfRV68VlZ"
      },
      "outputs": [
        {
          "name": "stdout",
          "output_type": "stream",
          "text": [
            "Mean: 22.875, Median: 23.5, Standard Deviation: 15.111564280378124\n",
            "Sum of all elements along each row: [ 64 137  64 101]\n",
            "Maximum value: 43, Index of maximum value: (np.int64(1), np.int64(2))\n"
          ]
        }
      ],
      "source": [
        "mean_value, median_value, std_deviation = np.mean(arr6), np.median(arr6), np.std(arr6)\n",
        "sum_rows = np.sum(arr6, axis=1)\n",
        "max_value, max_index = np.max(arr6), np.unravel_index(np.argmax(arr6), arr6.shape)\n",
        "\n",
        "print(f\"Mean: {mean_value}, Median: {median_value}, Standard Deviation: {std_deviation}\")\n",
        "print(f\"Sum of all elements along each row: {sum_rows}\")\n",
        "print(f\"Maximum value: {max_value}, Index of maximum value: {max_index}\")\n"
      ]
    },
    {
      "cell_type": "markdown",
      "metadata": {
        "id": "T_X0kP3I9eWi"
      },
      "source": [
        "###  Task 4: Advanced Analysis on Large Arrays"
      ]
    },
    {
      "cell_type": "markdown",
      "metadata": {
        "id": "B6uTdro89kE7"
      },
      "source": [
        "- Create a (10, 10) array containing random floating-point numbers between 0 and 1.\n",
        "- Find the minimum value along each column.\n",
        "- Find the indices of the top 5 largest values in the entire array."
      ]
    },
    {
      "cell_type": "code",
      "execution_count": 50,
      "metadata": {
        "id": "UwJw1MIn9ovK"
      },
      "outputs": [
        {
          "name": "stdout",
          "output_type": "stream",
          "text": [
            "Minimum values along each column: [0.20601301 0.01855887 0.0132625  0.206185   0.02928069 0.11327818\n",
            " 0.00913122 0.13517129 0.04365589 0.07628439]\n",
            "Indices of the top 5 largest values: (array([6, 7, 2, 6, 6]), array([1, 7, 3, 6, 3]))\n"
          ]
        }
      ],
      "source": [
        "arrayy = np.random.rand(10, 10)\n",
        "\n",
        "minmin_values = np.min(arrayy, axis=0)\n",
        "top_5_indices = np.unravel_index(np.argsort(arrayy.ravel())[-5:], arrayy.shape)\n",
        "\n",
        "print(f\"Minimum values along each column: {minmin_values}\")\n",
        "print(f\"Indices of the top 5 largest values: {top_5_indices}\")"
      ]
    },
    {
      "cell_type": "code",
      "execution_count": null,
      "metadata": {},
      "outputs": [],
      "source": []
    }
  ],
  "metadata": {
    "colab": {
      "collapsed_sections": [
        "JDa9MTb2wXPi",
        "ABs-32sKwOcg"
      ],
      "provenance": []
    },
    "kernelspec": {
      "display_name": "venv",
      "language": "python",
      "name": "python3"
    },
    "language_info": {
      "codemirror_mode": {
        "name": "ipython",
        "version": 3
      },
      "file_extension": ".py",
      "mimetype": "text/x-python",
      "name": "python",
      "nbconvert_exporter": "python",
      "pygments_lexer": "ipython3",
      "version": "3.10.0"
    }
  },
  "nbformat": 4,
  "nbformat_minor": 0
}
